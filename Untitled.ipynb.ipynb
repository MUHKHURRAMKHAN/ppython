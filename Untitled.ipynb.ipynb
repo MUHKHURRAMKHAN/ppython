{
  "nbformat": 4,
  "nbformat_minor": 0,
  "metadata": {
    "colab": {
      "provenance": []
    },
    "kernelspec": {
      "name": "python3",
      "display_name": "Python 3"
    },
    "language_info": {
      "name": "python"
    }
  },
  "cells": [
    {
      "cell_type": "code",
      "execution_count": null,
      "metadata": {
        "colab": {
          "base_uri": "https://localhost:8080/"
        },
        "id": "zLzLBN0FJrh9",
        "outputId": "1ff32b79-a703-4968-c8b2-fdc0dac0875e"
      },
      "outputs": [
        {
          "output_type": "stream",
          "name": "stdout",
          "text": [
            "multan\n"
          ]
        }
      ],
      "source": [
        "cities=[\"Karachi:\",\"Lahore\",\"Multan\"]\n",
        "print(cities[2])\n"
      ]
    },
    {
      "cell_type": "code",
      "source": [
        "cities=[\"Karachi\",\"Lahore\",\"Multan\",\"Islamabad\",\"Peshawar\"]\n",
        "cities.append(\"lahore\")\n",
        "print(cities)\n"
      ],
      "metadata": {
        "colab": {
          "base_uri": "https://localhost:8080/"
        },
        "id": "-1QCAB4nLgBD",
        "outputId": "5b8eba00-7803-4b85-aa87-d9d708046c07"
      },
      "execution_count": null,
      "outputs": [
        {
          "output_type": "stream",
          "name": "stdout",
          "text": [
            "['Karachi', 'Lahore', 'Multan', 'Islamabad', 'Peshawar', 'lahore']\n"
          ]
        }
      ]
    },
    {
      "cell_type": "code",
      "source": [
        "for i in range (1,11):\n",
        "  print(\"9x\",i,\"=\",i*9)"
      ],
      "metadata": {
        "colab": {
          "base_uri": "https://localhost:8080/"
        },
        "id": "Ec1x2-GoNJHZ",
        "outputId": "d9a35281-0d2e-40ae-cec9-9f878dd7ef33"
      },
      "execution_count": null,
      "outputs": [
        {
          "output_type": "stream",
          "name": "stdout",
          "text": [
            "9x 1 = 9\n",
            "9x 2 = 18\n",
            "9x 3 = 27\n",
            "9x 4 = 36\n",
            "9x 5 = 45\n",
            "9x 6 = 54\n",
            "9x 7 = 63\n",
            "9x 8 = 72\n",
            "9x 9 = 81\n",
            "9x 10 = 90\n"
          ]
        }
      ]
    },
    {
      "cell_type": "code",
      "source": [
        "num=int(input(\"Enter The Number:\"))\n",
        "for i in range (1,11):\n",
        "  print (num,\"x\",i,\"=\",i*10)\n"
      ],
      "metadata": {
        "colab": {
          "base_uri": "https://localhost:8080/"
        },
        "id": "0QThpPOhOitb",
        "outputId": "c11912df-d274-4a30-a8bf-62943ca36d53"
      },
      "execution_count": null,
      "outputs": [
        {
          "output_type": "stream",
          "name": "stdout",
          "text": [
            "Enter The Number:12\n",
            "12 x 1 = 10\n",
            "12 x 2 = 20\n",
            "12 x 3 = 30\n",
            "12 x 4 = 40\n",
            "12 x 5 = 50\n",
            "12 x 6 = 60\n",
            "12 x 7 = 70\n",
            "12 x 8 = 80\n",
            "12 x 9 = 90\n",
            "12 x 10 = 100\n"
          ]
        }
      ]
    },
    {
      "cell_type": "code",
      "source": [
        "num= 12345\n",
        "num=str(num)\n",
        "num=num[::-1]\n",
        "print(num)\n"
      ],
      "metadata": {
        "colab": {
          "base_uri": "https://localhost:8080/"
        },
        "id": "1arGot87QkAF",
        "outputId": "0f7c48e0-e523-4e3c-aa6c-72d14f67964b"
      },
      "execution_count": null,
      "outputs": [
        {
          "output_type": "stream",
          "name": "stdout",
          "text": [
            "54321\n"
          ]
        }
      ]
    },
    {
      "cell_type": "code",
      "source": [
        "num=\"371\"\n",
        "lenght=len(num)\n",
        "result=0\n",
        "for i in num:\n",
        "  result=result+int(i)**lenght\n",
        "  print(result)"
      ],
      "metadata": {
        "colab": {
          "base_uri": "https://localhost:8080/"
        },
        "id": "rFIByDf8Qj1g",
        "outputId": "ad4d4dd9-dcaf-40fc-d842-8c066e1acefb"
      },
      "execution_count": null,
      "outputs": [
        {
          "output_type": "stream",
          "name": "stdout",
          "text": [
            "27\n",
            "370\n",
            "371\n"
          ]
        }
      ]
    },
    {
      "cell_type": "code",
      "source": [
        "student={\n",
        "    \"Name\":\"Ali\",\n",
        "    \"Course\":\"IOT\",\n",
        "    \"Age\":22\n",
        "    }\n",
        "student[\"Name\"]\n"
      ],
      "metadata": {
        "id": "yyMhsbMNSyur",
        "colab": {
          "base_uri": "https://localhost:8080/",
          "height": 35
        },
        "outputId": "e6f9f94f-9252-4de9-da6a-dced73c2362c"
      },
      "execution_count": null,
      "outputs": [
        {
          "output_type": "execute_result",
          "data": {
            "text/plain": [
              "'Ali'"
            ],
            "application/vnd.google.colaboratory.intrinsic+json": {
              "type": "string"
            }
          },
          "metadata": {},
          "execution_count": 7
        }
      ]
    },
    {
      "cell_type": "code",
      "source": [
        "student\n",
        "{'Name':'Ali','Course':'IOT','Age':22}\n",
        "\n",
        "student[\"floor\"]=\"Third\"\n",
        "student"
      ],
      "metadata": {
        "colab": {
          "base_uri": "https://localhost:8080/"
        },
        "id": "MmnHSqHvB6ka",
        "outputId": "3137f354-2036-4691-d09f-08c50474aed1"
      },
      "execution_count": null,
      "outputs": [
        {
          "output_type": "execute_result",
          "data": {
            "text/plain": [
              "{'Name': 'Ali', 'Course': 'IOT', 'Age': 22, 'floor': 'Third'}"
            ]
          },
          "metadata": {},
          "execution_count": 24
        }
      ]
    },
    {
      "cell_type": "code",
      "source": [
        "del student[\"floor\"]\n",
        "student"
      ],
      "metadata": {
        "colab": {
          "base_uri": "https://localhost:8080/"
        },
        "id": "MszwdXAoFyR_",
        "outputId": "d0d46fd6-e4bd-4d9e-fab5-f6ade4bf3976"
      },
      "execution_count": null,
      "outputs": [
        {
          "output_type": "execute_result",
          "data": {
            "text/plain": [
              "{'Name': 'Ali', 'Course': 'IOT', 'Age': 22}"
            ]
          },
          "metadata": {},
          "execution_count": 25
        }
      ]
    },
    {
      "cell_type": "code",
      "source": [
        "data =[{\n",
        "    \"name\":\"ali\",\n",
        "    \"class\":\"iot\"\n",
        "},{\n",
        "    \"name\":\"khurram\",\n",
        "    \"course\":\"iot\"\n",
        "}]\n",
        "data[0][\"name\"]\n",
        "\n",
        "data[1][\"course\"]"
      ],
      "metadata": {
        "colab": {
          "base_uri": "https://localhost:8080/",
          "height": 35
        },
        "id": "pIk04DCaLAXl",
        "outputId": "0206a556-dbe9-4660-a279-becfc4e27b6c"
      },
      "execution_count": null,
      "outputs": [
        {
          "output_type": "execute_result",
          "data": {
            "text/plain": [
              "'iot'"
            ],
            "application/vnd.google.colaboratory.intrinsic+json": {
              "type": "string"
            }
          },
          "metadata": {},
          "execution_count": 14
        }
      ]
    },
    {
      "cell_type": "code",
      "source": [
        "data\n",
        "[{'name':'ali','class':'iot'},{'name':'khurram','course':'iot'}]\n",
        "data[0][\"name\"]"
      ],
      "metadata": {
        "colab": {
          "base_uri": "https://localhost:8080/",
          "height": 35
        },
        "id": "ILHLkLuMNuvM",
        "outputId": "66ac8ed2-4fe9-4e4b-8c7e-6a70975ce89d"
      },
      "execution_count": null,
      "outputs": [
        {
          "output_type": "execute_result",
          "data": {
            "text/plain": [
              "'ali'"
            ],
            "application/vnd.google.colaboratory.intrinsic+json": {
              "type": "string"
            }
          },
          "metadata": {},
          "execution_count": 15
        }
      ]
    },
    {
      "cell_type": "code",
      "source": [
        "data[1][\"course\"]"
      ],
      "metadata": {
        "colab": {
          "base_uri": "https://localhost:8080/",
          "height": 35
        },
        "id": "VFOjroOqOC-z",
        "outputId": "670a9cd1-aa50-4507-b1a8-33ebf4cabb66"
      },
      "execution_count": null,
      "outputs": [
        {
          "output_type": "execute_result",
          "data": {
            "text/plain": [
              "'iot'"
            ],
            "application/vnd.google.colaboratory.intrinsic+json": {
              "type": "string"
            }
          },
          "metadata": {},
          "execution_count": 16
        }
      ]
    },
    {
      "cell_type": "code",
      "source": [
        "dict= {\n",
        "    \"name\":[\"ali\",\"khurram\",\"hayyan\"],\n",
        "    \"class\":\"iot\"\n",
        "}\n",
        "dict1[\"name\"][1]"
      ],
      "metadata": {
        "colab": {
          "base_uri": "https://localhost:8080/",
          "height": 200
        },
        "id": "RswXWaS1PDuz",
        "outputId": "c459e116-9295-43cc-d837-2d0fe69cbbd3"
      },
      "execution_count": null,
      "outputs": [
        {
          "output_type": "error",
          "ename": "NameError",
          "evalue": "ignored",
          "traceback": [
            "\u001b[0;31m---------------------------------------------------------------------------\u001b[0m",
            "\u001b[0;31mNameError\u001b[0m                                 Traceback (most recent call last)",
            "\u001b[0;32m<ipython-input-21-524de97b5069>\u001b[0m in \u001b[0;36m<cell line: 5>\u001b[0;34m()\u001b[0m\n\u001b[1;32m      3\u001b[0m     \u001b[0;34m\"class\"\u001b[0m\u001b[0;34m:\u001b[0m\u001b[0;34m\"iot\"\u001b[0m\u001b[0;34m\u001b[0m\u001b[0;34m\u001b[0m\u001b[0m\n\u001b[1;32m      4\u001b[0m }\n\u001b[0;32m----> 5\u001b[0;31m \u001b[0mdict1\u001b[0m\u001b[0;34m[\u001b[0m\u001b[0;34m\"name\"\u001b[0m\u001b[0;34m]\u001b[0m\u001b[0;34m[\u001b[0m\u001b[0;36m1\u001b[0m\u001b[0;34m]\u001b[0m\u001b[0;34m\u001b[0m\u001b[0;34m\u001b[0m\u001b[0m\n\u001b[0m",
            "\u001b[0;31mNameError\u001b[0m: name 'dict1' is not defined"
          ]
        }
      ]
    }
  ]
}